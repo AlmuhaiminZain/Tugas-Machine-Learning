{
 "cells": [
  {
   "cell_type": "code",
   "execution_count": 1,
   "id": "2c233f3a",
   "metadata": {
    "_cell_guid": "b1076dfc-b9ad-4769-8c92-a6c4dae69d19",
    "_uuid": "8f2839f25d086af736a60e9eeb907d3b93b6e0e5",
    "execution": {
     "iopub.execute_input": "2024-03-25T21:28:49.216810Z",
     "iopub.status.busy": "2024-03-25T21:28:49.216307Z",
     "iopub.status.idle": "2024-03-25T21:28:50.285541Z",
     "shell.execute_reply": "2024-03-25T21:28:50.284081Z"
    },
    "papermill": {
     "duration": 1.082515,
     "end_time": "2024-03-25T21:28:50.288304",
     "exception": false,
     "start_time": "2024-03-25T21:28:49.205789",
     "status": "completed"
    },
    "tags": []
   },
   "outputs": [
    {
     "data": {
      "text/html": [
       "<div>\n",
       "<style scoped>\n",
       "    .dataframe tbody tr th:only-of-type {\n",
       "        vertical-align: middle;\n",
       "    }\n",
       "\n",
       "    .dataframe tbody tr th {\n",
       "        vertical-align: top;\n",
       "    }\n",
       "\n",
       "    .dataframe thead th {\n",
       "        text-align: right;\n",
       "    }\n",
       "</style>\n",
       "<table border=\"1\" class=\"dataframe\">\n",
       "  <thead>\n",
       "    <tr style=\"text-align: right;\">\n",
       "      <th></th>\n",
       "      <th>Product Name</th>\n",
       "      <th>Product URL</th>\n",
       "      <th>Brand</th>\n",
       "      <th>Sale Price</th>\n",
       "      <th>Mrp</th>\n",
       "      <th>Discount Percentage</th>\n",
       "      <th>Number Of Ratings</th>\n",
       "      <th>Number Of Reviews</th>\n",
       "      <th>Upc</th>\n",
       "      <th>Star Rating</th>\n",
       "      <th>Ram</th>\n",
       "    </tr>\n",
       "  </thead>\n",
       "  <tbody>\n",
       "    <tr>\n",
       "      <th>0</th>\n",
       "      <td>APPLE iPhone 8 Plus (Gold, 64 GB)</td>\n",
       "      <td>https://www.flipkart.com/apple-iphone-8-plus-g...</td>\n",
       "      <td>Apple</td>\n",
       "      <td>49900</td>\n",
       "      <td>49900</td>\n",
       "      <td>0</td>\n",
       "      <td>3431</td>\n",
       "      <td>356</td>\n",
       "      <td>MOBEXRGV7EHHTGUH</td>\n",
       "      <td>4.6</td>\n",
       "      <td>2 GB</td>\n",
       "    </tr>\n",
       "    <tr>\n",
       "      <th>1</th>\n",
       "      <td>APPLE iPhone 8 Plus (Space Grey, 256 GB)</td>\n",
       "      <td>https://www.flipkart.com/apple-iphone-8-plus-s...</td>\n",
       "      <td>Apple</td>\n",
       "      <td>84900</td>\n",
       "      <td>84900</td>\n",
       "      <td>0</td>\n",
       "      <td>3431</td>\n",
       "      <td>356</td>\n",
       "      <td>MOBEXRGVAC6TJT4F</td>\n",
       "      <td>4.6</td>\n",
       "      <td>2 GB</td>\n",
       "    </tr>\n",
       "    <tr>\n",
       "      <th>2</th>\n",
       "      <td>APPLE iPhone 8 Plus (Silver, 256 GB)</td>\n",
       "      <td>https://www.flipkart.com/apple-iphone-8-plus-s...</td>\n",
       "      <td>Apple</td>\n",
       "      <td>84900</td>\n",
       "      <td>84900</td>\n",
       "      <td>0</td>\n",
       "      <td>3431</td>\n",
       "      <td>356</td>\n",
       "      <td>MOBEXRGVGETABXWZ</td>\n",
       "      <td>4.6</td>\n",
       "      <td>2 GB</td>\n",
       "    </tr>\n",
       "    <tr>\n",
       "      <th>3</th>\n",
       "      <td>APPLE iPhone 8 (Silver, 256 GB)</td>\n",
       "      <td>https://www.flipkart.com/apple-iphone-8-silver...</td>\n",
       "      <td>Apple</td>\n",
       "      <td>77000</td>\n",
       "      <td>77000</td>\n",
       "      <td>0</td>\n",
       "      <td>11202</td>\n",
       "      <td>794</td>\n",
       "      <td>MOBEXRGVMZWUHCBA</td>\n",
       "      <td>4.5</td>\n",
       "      <td>2 GB</td>\n",
       "    </tr>\n",
       "    <tr>\n",
       "      <th>4</th>\n",
       "      <td>APPLE iPhone 8 (Gold, 256 GB)</td>\n",
       "      <td>https://www.flipkart.com/apple-iphone-8-gold-2...</td>\n",
       "      <td>Apple</td>\n",
       "      <td>77000</td>\n",
       "      <td>77000</td>\n",
       "      <td>0</td>\n",
       "      <td>11202</td>\n",
       "      <td>794</td>\n",
       "      <td>MOBEXRGVPK7PFEJZ</td>\n",
       "      <td>4.5</td>\n",
       "      <td>2 GB</td>\n",
       "    </tr>\n",
       "  </tbody>\n",
       "</table>\n",
       "</div>"
      ],
      "text/plain": [
       "                               Product Name  \\\n",
       "0         APPLE iPhone 8 Plus (Gold, 64 GB)   \n",
       "1  APPLE iPhone 8 Plus (Space Grey, 256 GB)   \n",
       "2      APPLE iPhone 8 Plus (Silver, 256 GB)   \n",
       "3           APPLE iPhone 8 (Silver, 256 GB)   \n",
       "4             APPLE iPhone 8 (Gold, 256 GB)   \n",
       "\n",
       "                                         Product URL  Brand  Sale Price  \\\n",
       "0  https://www.flipkart.com/apple-iphone-8-plus-g...  Apple       49900   \n",
       "1  https://www.flipkart.com/apple-iphone-8-plus-s...  Apple       84900   \n",
       "2  https://www.flipkart.com/apple-iphone-8-plus-s...  Apple       84900   \n",
       "3  https://www.flipkart.com/apple-iphone-8-silver...  Apple       77000   \n",
       "4  https://www.flipkart.com/apple-iphone-8-gold-2...  Apple       77000   \n",
       "\n",
       "     Mrp  Discount Percentage  Number Of Ratings  Number Of Reviews  \\\n",
       "0  49900                    0               3431                356   \n",
       "1  84900                    0               3431                356   \n",
       "2  84900                    0               3431                356   \n",
       "3  77000                    0              11202                794   \n",
       "4  77000                    0              11202                794   \n",
       "\n",
       "                Upc  Star Rating   Ram  \n",
       "0  MOBEXRGV7EHHTGUH          4.6  2 GB  \n",
       "1  MOBEXRGVAC6TJT4F          4.6  2 GB  \n",
       "2  MOBEXRGVGETABXWZ          4.6  2 GB  \n",
       "3  MOBEXRGVMZWUHCBA          4.5  2 GB  \n",
       "4  MOBEXRGVPK7PFEJZ          4.5  2 GB  "
      ]
     },
     "execution_count": 1,
     "metadata": {},
     "output_type": "execute_result"
    }
   ],
   "source": [
    "import pandas as pd  #Mengimpor library Pandas, Aliasnya pd supaya mempersingkat.\n",
    "\n",
    "df = pd.read_csv('/kaggle/input/baruuu/apple_products.csv')  #Membaca file CSV yang terletak di '/content/train.csv' dan menyimpannya ke dalam DataFrame df.\n",
    "df.head()  #Menampilkan lima baris pertama dari DataFrame df.\\"
   ]
  },
  {
   "cell_type": "code",
   "execution_count": 2,
   "id": "c205ea8a",
   "metadata": {
    "execution": {
     "iopub.execute_input": "2024-03-25T21:28:50.305823Z",
     "iopub.status.busy": "2024-03-25T21:28:50.305367Z",
     "iopub.status.idle": "2024-03-25T21:28:50.336254Z",
     "shell.execute_reply": "2024-03-25T21:28:50.334175Z"
    },
    "papermill": {
     "duration": 0.043189,
     "end_time": "2024-03-25T21:28:50.339358",
     "exception": false,
     "start_time": "2024-03-25T21:28:50.296169",
     "status": "completed"
    },
    "tags": []
   },
   "outputs": [
    {
     "name": "stdout",
     "output_type": "stream",
     "text": [
      "<class 'pandas.core.frame.DataFrame'>\n",
      "RangeIndex: 62 entries, 0 to 61\n",
      "Data columns (total 11 columns):\n",
      " #   Column               Non-Null Count  Dtype  \n",
      "---  ------               --------------  -----  \n",
      " 0   Product Name         62 non-null     object \n",
      " 1   Product URL          62 non-null     object \n",
      " 2   Brand                62 non-null     object \n",
      " 3   Sale Price           62 non-null     int64  \n",
      " 4   Mrp                  62 non-null     int64  \n",
      " 5   Discount Percentage  62 non-null     int64  \n",
      " 6   Number Of Ratings    62 non-null     int64  \n",
      " 7   Number Of Reviews    62 non-null     int64  \n",
      " 8   Upc                  62 non-null     object \n",
      " 9   Star Rating          62 non-null     float64\n",
      " 10  Ram                  62 non-null     object \n",
      "dtypes: float64(1), int64(5), object(5)\n",
      "memory usage: 5.5+ KB\n"
     ]
    }
   ],
   "source": [
    "df.info()"
   ]
  },
  {
   "cell_type": "code",
   "execution_count": 3,
   "id": "77e43ae4",
   "metadata": {
    "execution": {
     "iopub.execute_input": "2024-03-25T21:28:50.357766Z",
     "iopub.status.busy": "2024-03-25T21:28:50.357299Z",
     "iopub.status.idle": "2024-03-25T21:28:50.368278Z",
     "shell.execute_reply": "2024-03-25T21:28:50.366679Z"
    },
    "papermill": {
     "duration": 0.023789,
     "end_time": "2024-03-25T21:28:50.371292",
     "exception": false,
     "start_time": "2024-03-25T21:28:50.347503",
     "status": "completed"
    },
    "tags": []
   },
   "outputs": [],
   "source": [
    "df.drop(['Brand'], axis=1, inplace=True)"
   ]
  },
  {
   "cell_type": "code",
   "execution_count": 4,
   "id": "16cdaa2b",
   "metadata": {
    "execution": {
     "iopub.execute_input": "2024-03-25T21:28:50.390057Z",
     "iopub.status.busy": "2024-03-25T21:28:50.389564Z",
     "iopub.status.idle": "2024-03-25T21:28:50.397339Z",
     "shell.execute_reply": "2024-03-25T21:28:50.395913Z"
    },
    "papermill": {
     "duration": 0.02086,
     "end_time": "2024-03-25T21:28:50.400340",
     "exception": false,
     "start_time": "2024-03-25T21:28:50.379480",
     "status": "completed"
    },
    "tags": []
   },
   "outputs": [],
   "source": [
    "df.drop(['Product Name'], axis=1, inplace=True)"
   ]
  },
  {
   "cell_type": "code",
   "execution_count": 5,
   "id": "5224f2bc",
   "metadata": {
    "execution": {
     "iopub.execute_input": "2024-03-25T21:28:50.419177Z",
     "iopub.status.busy": "2024-03-25T21:28:50.418686Z",
     "iopub.status.idle": "2024-03-25T21:28:50.426012Z",
     "shell.execute_reply": "2024-03-25T21:28:50.424440Z"
    },
    "papermill": {
     "duration": 0.020319,
     "end_time": "2024-03-25T21:28:50.428858",
     "exception": false,
     "start_time": "2024-03-25T21:28:50.408539",
     "status": "completed"
    },
    "tags": []
   },
   "outputs": [],
   "source": [
    "df.drop(['Product URL'], axis=1, inplace=True)"
   ]
  },
  {
   "cell_type": "code",
   "execution_count": 6,
   "id": "e96e25a4",
   "metadata": {
    "execution": {
     "iopub.execute_input": "2024-03-25T21:28:50.447303Z",
     "iopub.status.busy": "2024-03-25T21:28:50.446503Z",
     "iopub.status.idle": "2024-03-25T21:28:50.454025Z",
     "shell.execute_reply": "2024-03-25T21:28:50.452445Z"
    },
    "papermill": {
     "duration": 0.020247,
     "end_time": "2024-03-25T21:28:50.457178",
     "exception": false,
     "start_time": "2024-03-25T21:28:50.436931",
     "status": "completed"
    },
    "tags": []
   },
   "outputs": [],
   "source": [
    "df.drop(['Sale Price'], axis=1, inplace=True)"
   ]
  },
  {
   "cell_type": "code",
   "execution_count": 7,
   "id": "37d70214",
   "metadata": {
    "execution": {
     "iopub.execute_input": "2024-03-25T21:28:50.475337Z",
     "iopub.status.busy": "2024-03-25T21:28:50.474878Z",
     "iopub.status.idle": "2024-03-25T21:28:50.481896Z",
     "shell.execute_reply": "2024-03-25T21:28:50.480429Z"
    },
    "papermill": {
     "duration": 0.019106,
     "end_time": "2024-03-25T21:28:50.484306",
     "exception": false,
     "start_time": "2024-03-25T21:28:50.465200",
     "status": "completed"
    },
    "tags": []
   },
   "outputs": [],
   "source": [
    "df.drop(['Mrp'], axis=1, inplace=True)"
   ]
  },
  {
   "cell_type": "code",
   "execution_count": 8,
   "id": "e62f185e",
   "metadata": {
    "execution": {
     "iopub.execute_input": "2024-03-25T21:28:50.501857Z",
     "iopub.status.busy": "2024-03-25T21:28:50.501407Z",
     "iopub.status.idle": "2024-03-25T21:28:50.508656Z",
     "shell.execute_reply": "2024-03-25T21:28:50.507582Z"
    },
    "papermill": {
     "duration": 0.019018,
     "end_time": "2024-03-25T21:28:50.511123",
     "exception": false,
     "start_time": "2024-03-25T21:28:50.492105",
     "status": "completed"
    },
    "tags": []
   },
   "outputs": [],
   "source": [
    "df.drop(['Discount Percentage'], axis=1, inplace=True)"
   ]
  },
  {
   "cell_type": "code",
   "execution_count": 9,
   "id": "14006215",
   "metadata": {
    "execution": {
     "iopub.execute_input": "2024-03-25T21:28:50.528674Z",
     "iopub.status.busy": "2024-03-25T21:28:50.528165Z",
     "iopub.status.idle": "2024-03-25T21:28:50.535786Z",
     "shell.execute_reply": "2024-03-25T21:28:50.534471Z"
    },
    "papermill": {
     "duration": 0.019673,
     "end_time": "2024-03-25T21:28:50.538380",
     "exception": false,
     "start_time": "2024-03-25T21:28:50.518707",
     "status": "completed"
    },
    "tags": []
   },
   "outputs": [],
   "source": [
    "df.drop(['Number Of Reviews'], axis=1, inplace=True)"
   ]
  },
  {
   "cell_type": "code",
   "execution_count": 10,
   "id": "568ea5ba",
   "metadata": {
    "execution": {
     "iopub.execute_input": "2024-03-25T21:28:50.556395Z",
     "iopub.status.busy": "2024-03-25T21:28:50.555998Z",
     "iopub.status.idle": "2024-03-25T21:28:50.563480Z",
     "shell.execute_reply": "2024-03-25T21:28:50.561979Z"
    },
    "papermill": {
     "duration": 0.019995,
     "end_time": "2024-03-25T21:28:50.566471",
     "exception": false,
     "start_time": "2024-03-25T21:28:50.546476",
     "status": "completed"
    },
    "tags": []
   },
   "outputs": [],
   "source": [
    "df.drop(['Upc'], axis=1, inplace=True)"
   ]
  },
  {
   "cell_type": "code",
   "execution_count": 11,
   "id": "eed3825b",
   "metadata": {
    "execution": {
     "iopub.execute_input": "2024-03-25T21:28:50.585598Z",
     "iopub.status.busy": "2024-03-25T21:28:50.585063Z",
     "iopub.status.idle": "2024-03-25T21:28:50.592457Z",
     "shell.execute_reply": "2024-03-25T21:28:50.591092Z"
    },
    "papermill": {
     "duration": 0.020867,
     "end_time": "2024-03-25T21:28:50.595015",
     "exception": false,
     "start_time": "2024-03-25T21:28:50.574148",
     "status": "completed"
    },
    "tags": []
   },
   "outputs": [],
   "source": [
    "df.drop(['Ram'], axis=1, inplace=True)"
   ]
  },
  {
   "cell_type": "code",
   "execution_count": 12,
   "id": "a066e5a2",
   "metadata": {
    "execution": {
     "iopub.execute_input": "2024-03-25T21:28:50.612464Z",
     "iopub.status.busy": "2024-03-25T21:28:50.611978Z",
     "iopub.status.idle": "2024-03-25T21:28:50.625414Z",
     "shell.execute_reply": "2024-03-25T21:28:50.623973Z"
    },
    "papermill": {
     "duration": 0.025204,
     "end_time": "2024-03-25T21:28:50.627924",
     "exception": false,
     "start_time": "2024-03-25T21:28:50.602720",
     "status": "completed"
    },
    "tags": []
   },
   "outputs": [
    {
     "data": {
      "text/html": [
       "<div>\n",
       "<style scoped>\n",
       "    .dataframe tbody tr th:only-of-type {\n",
       "        vertical-align: middle;\n",
       "    }\n",
       "\n",
       "    .dataframe tbody tr th {\n",
       "        vertical-align: top;\n",
       "    }\n",
       "\n",
       "    .dataframe thead th {\n",
       "        text-align: right;\n",
       "    }\n",
       "</style>\n",
       "<table border=\"1\" class=\"dataframe\">\n",
       "  <thead>\n",
       "    <tr style=\"text-align: right;\">\n",
       "      <th></th>\n",
       "      <th>Number Of Ratings</th>\n",
       "      <th>Star Rating</th>\n",
       "    </tr>\n",
       "  </thead>\n",
       "  <tbody>\n",
       "    <tr>\n",
       "      <th>0</th>\n",
       "      <td>3431</td>\n",
       "      <td>4.6</td>\n",
       "    </tr>\n",
       "    <tr>\n",
       "      <th>1</th>\n",
       "      <td>3431</td>\n",
       "      <td>4.6</td>\n",
       "    </tr>\n",
       "    <tr>\n",
       "      <th>2</th>\n",
       "      <td>3431</td>\n",
       "      <td>4.6</td>\n",
       "    </tr>\n",
       "    <tr>\n",
       "      <th>3</th>\n",
       "      <td>11202</td>\n",
       "      <td>4.5</td>\n",
       "    </tr>\n",
       "    <tr>\n",
       "      <th>4</th>\n",
       "      <td>11202</td>\n",
       "      <td>4.5</td>\n",
       "    </tr>\n",
       "  </tbody>\n",
       "</table>\n",
       "</div>"
      ],
      "text/plain": [
       "   Number Of Ratings  Star Rating\n",
       "0               3431          4.6\n",
       "1               3431          4.6\n",
       "2               3431          4.6\n",
       "3              11202          4.5\n",
       "4              11202          4.5"
      ]
     },
     "execution_count": 12,
     "metadata": {},
     "output_type": "execute_result"
    }
   ],
   "source": [
    "df.head()"
   ]
  },
  {
   "cell_type": "code",
   "execution_count": 13,
   "id": "fc85089b",
   "metadata": {
    "execution": {
     "iopub.execute_input": "2024-03-25T21:28:50.646280Z",
     "iopub.status.busy": "2024-03-25T21:28:50.645834Z",
     "iopub.status.idle": "2024-03-25T21:28:52.057260Z",
     "shell.execute_reply": "2024-03-25T21:28:52.055855Z"
    },
    "papermill": {
     "duration": 1.424463,
     "end_time": "2024-03-25T21:28:52.060473",
     "exception": false,
     "start_time": "2024-03-25T21:28:50.636010",
     "status": "completed"
    },
    "tags": []
   },
   "outputs": [],
   "source": [
    "from sklearn.preprocessing import StandardScaler\n",
    "\n",
    "scaler = StandardScaler()\n",
    "scaled_features = scaler.fit_transform(df[['Number Of Ratings', 'Star Rating']])\n",
    "\n",
    "df[['Number Of Ratings', 'Star Rating']] = scaled_features"
   ]
  },
  {
   "cell_type": "code",
   "execution_count": 14,
   "id": "79c40bcf",
   "metadata": {
    "execution": {
     "iopub.execute_input": "2024-03-25T21:28:52.079153Z",
     "iopub.status.busy": "2024-03-25T21:28:52.078726Z",
     "iopub.status.idle": "2024-03-25T21:28:52.090607Z",
     "shell.execute_reply": "2024-03-25T21:28:52.089362Z"
    },
    "papermill": {
     "duration": 0.024673,
     "end_time": "2024-03-25T21:28:52.093499",
     "exception": false,
     "start_time": "2024-03-25T21:28:52.068826",
     "status": "completed"
    },
    "tags": []
   },
   "outputs": [
    {
     "data": {
      "text/html": [
       "<div>\n",
       "<style scoped>\n",
       "    .dataframe tbody tr th:only-of-type {\n",
       "        vertical-align: middle;\n",
       "    }\n",
       "\n",
       "    .dataframe tbody tr th {\n",
       "        vertical-align: top;\n",
       "    }\n",
       "\n",
       "    .dataframe thead th {\n",
       "        text-align: right;\n",
       "    }\n",
       "</style>\n",
       "<table border=\"1\" class=\"dataframe\">\n",
       "  <thead>\n",
       "    <tr style=\"text-align: right;\">\n",
       "      <th></th>\n",
       "      <th>Number Of Ratings</th>\n",
       "      <th>Star Rating</th>\n",
       "    </tr>\n",
       "  </thead>\n",
       "  <tbody>\n",
       "    <tr>\n",
       "      <th>0</th>\n",
       "      <td>-0.566930</td>\n",
       "      <td>0.412082</td>\n",
       "    </tr>\n",
       "    <tr>\n",
       "      <th>1</th>\n",
       "      <td>-0.566930</td>\n",
       "      <td>0.412082</td>\n",
       "    </tr>\n",
       "    <tr>\n",
       "      <th>2</th>\n",
       "      <td>-0.566930</td>\n",
       "      <td>0.412082</td>\n",
       "    </tr>\n",
       "    <tr>\n",
       "      <th>3</th>\n",
       "      <td>-0.334926</td>\n",
       "      <td>-1.291189</td>\n",
       "    </tr>\n",
       "    <tr>\n",
       "      <th>4</th>\n",
       "      <td>-0.334926</td>\n",
       "      <td>-1.291189</td>\n",
       "    </tr>\n",
       "  </tbody>\n",
       "</table>\n",
       "</div>"
      ],
      "text/plain": [
       "   Number Of Ratings  Star Rating\n",
       "0          -0.566930     0.412082\n",
       "1          -0.566930     0.412082\n",
       "2          -0.566930     0.412082\n",
       "3          -0.334926    -1.291189\n",
       "4          -0.334926    -1.291189"
      ]
     },
     "execution_count": 14,
     "metadata": {},
     "output_type": "execute_result"
    }
   ],
   "source": [
    "df.head()"
   ]
  },
  {
   "cell_type": "code",
   "execution_count": 15,
   "id": "9b75424f",
   "metadata": {
    "execution": {
     "iopub.execute_input": "2024-03-25T21:28:52.113102Z",
     "iopub.status.busy": "2024-03-25T21:28:52.112337Z",
     "iopub.status.idle": "2024-03-25T21:28:52.857996Z",
     "shell.execute_reply": "2024-03-25T21:28:52.857013Z"
    },
    "papermill": {
     "duration": 0.758853,
     "end_time": "2024-03-25T21:28:52.860882",
     "exception": false,
     "start_time": "2024-03-25T21:28:52.102029",
     "status": "completed"
    },
    "tags": []
   },
   "outputs": [
    {
     "name": "stderr",
     "output_type": "stream",
     "text": [
      "/opt/conda/lib/python3.10/site-packages/sklearn/cluster/_kmeans.py:870: FutureWarning: The default value of `n_init` will change from 10 to 'auto' in 1.4. Set the value of `n_init` explicitly to suppress the warning\n",
      "  warnings.warn(\n",
      "/opt/conda/lib/python3.10/site-packages/sklearn/cluster/_kmeans.py:870: FutureWarning: The default value of `n_init` will change from 10 to 'auto' in 1.4. Set the value of `n_init` explicitly to suppress the warning\n",
      "  warnings.warn(\n",
      "/opt/conda/lib/python3.10/site-packages/sklearn/cluster/_kmeans.py:870: FutureWarning: The default value of `n_init` will change from 10 to 'auto' in 1.4. Set the value of `n_init` explicitly to suppress the warning\n",
      "  warnings.warn(\n",
      "/opt/conda/lib/python3.10/site-packages/sklearn/cluster/_kmeans.py:870: FutureWarning: The default value of `n_init` will change from 10 to 'auto' in 1.4. Set the value of `n_init` explicitly to suppress the warning\n",
      "  warnings.warn(\n",
      "/opt/conda/lib/python3.10/site-packages/sklearn/cluster/_kmeans.py:870: FutureWarning: The default value of `n_init` will change from 10 to 'auto' in 1.4. Set the value of `n_init` explicitly to suppress the warning\n",
      "  warnings.warn(\n",
      "/opt/conda/lib/python3.10/site-packages/sklearn/cluster/_kmeans.py:870: FutureWarning: The default value of `n_init` will change from 10 to 'auto' in 1.4. Set the value of `n_init` explicitly to suppress the warning\n",
      "  warnings.warn(\n",
      "/opt/conda/lib/python3.10/site-packages/sklearn/cluster/_kmeans.py:870: FutureWarning: The default value of `n_init` will change from 10 to 'auto' in 1.4. Set the value of `n_init` explicitly to suppress the warning\n",
      "  warnings.warn(\n",
      "/opt/conda/lib/python3.10/site-packages/sklearn/cluster/_kmeans.py:870: FutureWarning: The default value of `n_init` will change from 10 to 'auto' in 1.4. Set the value of `n_init` explicitly to suppress the warning\n",
      "  warnings.warn(\n",
      "/opt/conda/lib/python3.10/site-packages/sklearn/cluster/_kmeans.py:870: FutureWarning: The default value of `n_init` will change from 10 to 'auto' in 1.4. Set the value of `n_init` explicitly to suppress the warning\n",
      "  warnings.warn(\n",
      "/opt/conda/lib/python3.10/site-packages/sklearn/cluster/_kmeans.py:870: FutureWarning: The default value of `n_init` will change from 10 to 'auto' in 1.4. Set the value of `n_init` explicitly to suppress the warning\n",
      "  warnings.warn(\n"
     ]
    }
   ],
   "source": [
    "from sklearn.cluster import KMeans\n",
    "\n",
    "clusters = []\n",
    "for i in range(1,11):\n",
    "  km = KMeans(n_clusters=i).fit(df)\n",
    "  clusters.append(km.inertia_)\n"
   ]
  },
  {
   "cell_type": "code",
   "execution_count": 16,
   "id": "14efe368",
   "metadata": {
    "execution": {
     "iopub.execute_input": "2024-03-25T21:28:52.881997Z",
     "iopub.status.busy": "2024-03-25T21:28:52.881077Z",
     "iopub.status.idle": "2024-03-25T21:28:53.622531Z",
     "shell.execute_reply": "2024-03-25T21:28:53.620984Z"
    },
    "papermill": {
     "duration": 0.75476,
     "end_time": "2024-03-25T21:28:53.625433",
     "exception": false,
     "start_time": "2024-03-25T21:28:52.870673",
     "status": "completed"
    },
    "tags": []
   },
   "outputs": [
    {
     "name": "stderr",
     "output_type": "stream",
     "text": [
      "/opt/conda/lib/python3.10/site-packages/seaborn/_oldcore.py:1119: FutureWarning: use_inf_as_na option is deprecated and will be removed in a future version. Convert inf values to NaN before operating instead.\n",
      "  with pd.option_context('mode.use_inf_as_na', True):\n",
      "/opt/conda/lib/python3.10/site-packages/seaborn/_oldcore.py:1119: FutureWarning: use_inf_as_na option is deprecated and will be removed in a future version. Convert inf values to NaN before operating instead.\n",
      "  with pd.option_context('mode.use_inf_as_na', True):\n"
     ]
    },
    {
     "data": {
      "text/plain": [
       "Text(0, 0.5, 'Inertia')"
      ]
     },
     "execution_count": 16,
     "metadata": {},
     "output_type": "execute_result"
    },
    {
     "data": {
      "image/png": "[encoded data removed]",
      "text/plain": [
       "<Figure size 800x400 with 1 Axes>"
      ]
     },
     "metadata": {},
     "output_type": "display_data"
    }
   ],
   "source": [
    "import matplotlib.pyplot as plt\n",
    "%matplotlib inline\n",
    "import seaborn as sns\n",
    "\n",
    "# membuat plot inertia\n",
    "fig, ax = plt.subplots(figsize=(8, 4))\n",
    "sns.lineplot(x=list(range(1, 11)), y=clusters, ax=ax)\n",
    "ax.set_title('Cari Elbow')\n",
    "ax.set_xlabel('Clusters')\n",
    "ax.set_ylabel('Inertia')"
   ]
  },
  {
   "cell_type": "code",
   "execution_count": 17,
   "id": "4dd483e6",
   "metadata": {
    "execution": {
     "iopub.execute_input": "2024-03-25T21:28:53.647489Z",
     "iopub.status.busy": "2024-03-25T21:28:53.646285Z",
     "iopub.status.idle": "2024-03-25T21:28:53.674839Z",
     "shell.execute_reply": "2024-03-25T21:28:53.673875Z"
    },
    "papermill": {
     "duration": 0.042575,
     "end_time": "2024-03-25T21:28:53.677770",
     "exception": false,
     "start_time": "2024-03-25T21:28:53.635195",
     "status": "completed"
    },
    "tags": []
   },
   "outputs": [
    {
     "name": "stderr",
     "output_type": "stream",
     "text": [
      "/opt/conda/lib/python3.10/site-packages/sklearn/cluster/_kmeans.py:870: FutureWarning: The default value of `n_init` will change from 10 to 'auto' in 1.4. Set the value of `n_init` explicitly to suppress the warning\n",
      "  warnings.warn(\n"
     ]
    }
   ],
   "source": [
    "# membuat objek KMeans\n",
    "km5 = KMeans(n_clusters=5).fit(df)"
   ]
  },
  {
   "cell_type": "code",
   "execution_count": 18,
   "id": "45953e6d",
   "metadata": {
    "execution": {
     "iopub.execute_input": "2024-03-25T21:28:53.699135Z",
     "iopub.status.busy": "2024-03-25T21:28:53.698740Z",
     "iopub.status.idle": "2024-03-25T21:28:53.704496Z",
     "shell.execute_reply": "2024-03-25T21:28:53.703214Z"
    },
    "papermill": {
     "duration": 0.018768,
     "end_time": "2024-03-25T21:28:53.707175",
     "exception": false,
     "start_time": "2024-03-25T21:28:53.688407",
     "status": "completed"
    },
    "tags": []
   },
   "outputs": [],
   "source": [
    "# menambahkan kolom label pada dataset\n",
    "df['Labels'] = km5.labels_"
   ]
  },
  {
   "cell_type": "code",
   "execution_count": 19,
   "id": "82ac68e5",
   "metadata": {
    "execution": {
     "iopub.execute_input": "2024-03-25T21:28:53.727240Z",
     "iopub.status.busy": "2024-03-25T21:28:53.726831Z",
     "iopub.status.idle": "2024-03-25T21:28:54.203160Z",
     "shell.execute_reply": "2024-03-25T21:28:54.202133Z"
    },
    "papermill": {
     "duration": 0.489326,
     "end_time": "2024-03-25T21:28:54.205472",
     "exception": false,
     "start_time": "2024-03-25T21:28:53.716146",
     "status": "completed"
    },
    "tags": []
   },
   "outputs": [
    {
     "data": {
      "image/png": "[encoded data removed]",
      "text/plain": [
       "<Figure size 800x400 with 1 Axes>"
      ]
     },
     "metadata": {},
     "output_type": "display_data"
    }
   ],
   "source": [
    "# membuat plot KMeans dengan 5 klaster\n",
    "plt.figure(figsize=(8,4))\n",
    "sns.scatterplot(x=df['Number Of Ratings'], y=df['Star Rating'], hue=df['Labels'],\n",
    "                palette=sns.color_palette('hls', 5))\n",
    "plt.title('KMeans dengan 5 Cluster')\n",
    "plt.show()"
   ]
  },
  {
   "cell_type": "code",
   "execution_count": null,
   "id": "a4293823",
   "metadata": {
    "papermill": {
     "duration": 0.009556,
     "end_time": "2024-03-25T21:28:54.226778",
     "exception": false,
     "start_time": "2024-03-25T21:28:54.217222",
     "status": "completed"
    },
    "tags": []
   },
   "outputs": [],
   "source": []
  }
 ],
 "metadata": {
  "kaggle": {
   "accelerator": "none",
   "dataSources": [
    {
     "datasetId": 4667450,
     "sourceId": 7939133,
     "sourceType": "datasetVersion"
    },
    {
     "datasetId": 4669032,
     "sourceId": 7941335,
     "sourceType": "datasetVersion"
    },
    {
     "datasetId": 4669038,
     "sourceId": 7941342,
     "sourceType": "datasetVersion"
    }
   ],
   "dockerImageVersionId": 30673,
   "isGpuEnabled": false,
   "isInternetEnabled": true,
   "language": "python",
   "sourceType": "notebook"
  },
  "kernelspec": {
   "display_name": "Python 3",
   "language": "python",
   "name": "python3"
  },
  "language_info": {
   "codemirror_mode": {
    "name": "ipython",
    "version": 3
   },
   "file_extension": ".py",
   "mimetype": "text/x-python",
   "name": "python",
   "nbconvert_exporter": "python",
   "pygments_lexer": "ipython3",
   "version": "3.10.13"
  },
  "papermill": {
   "default_parameters": {},
   "duration": 9.151979,
   "end_time": "2024-03-25T21:28:55.068312",
   "environment_variables": {},
   "exception": null,
   "input_path": "__notebook__.ipynb",
   "output_path": "__notebook__.ipynb",
   "parameters": {},
   "start_time": "2024-03-25T21:28:45.916333",
   "version": "2.5.0"
  }
 },
 "nbformat": 4,
 "nbformat_minor": 5
}
